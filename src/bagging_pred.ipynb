{
 "cells": [
  {
   "cell_type": "code",
   "execution_count": null,
   "metadata": {},
   "outputs": [],
   "source": [
    "from sklearn.metrics import mean_squared_error\n",
    "import os\n",
    "import numpy as np\n",
    "from tqdm import tqdm\n",
    "\n",
    "preds = []\n",
    "trues = []\n",
    "for i in tqdm(range(9)):\n",
    "    pred = np.load(f'../results/flame_seq_len_23_UNet_FLAME_ftM_sl5_ll48_pl20_dm256_nh8_el2_dl1_df75_expand2_dc4_fc3_ebtimeF_dtTrue_Exp_0nf{i}_we3/pred.npy')\n",
    "    true = np.load(f'../results/flame_seq_len_23_UNet_FLAME_ftM_sl5_ll48_pl20_dm256_nh8_el2_dl1_df75_expand2_dc4_fc3_ebtimeF_dtTrue_Exp_0nf{i}_we3/true.npy')\n",
    "    preds.append(pred)\n",
    "    trues.append(true)\n",
    "\n",
    "preds = np.stack(preds, axis=0)\n",
    "trues = np.stack(trues, axis=0)\n",
    "\n",
    "mean_squared_error(trues.reshape(-1), preds.reshape(-1))"
   ]
  },
  {
   "cell_type": "code",
   "execution_count": null,
   "metadata": {},
   "outputs": [],
   "source": [
    "preds = []\n",
    "for i in tqdm(range(9)):\n",
    "    pred = np.load(f'../pred_results/flame_weather_96_96_UNet_FLAME_ftM_sl5_ll48_pl20_dm256_nh8_el2_dl1_df75_expand2_dc4_fc3_ebtimeF_dtTrue_Exp_0nf{i}_we3/pred.npy')\n",
    "    preds.append(pred)\n",
    "\n",
    "preds = np.stack(preds, axis=0)\n",
    "np.save('../pred_results/UNet_bagging_pred.npy', preds)"
   ]
  },
  {
   "cell_type": "code",
   "execution_count": null,
   "metadata": {},
   "outputs": [],
   "source": []
  }
 ],
 "metadata": {
  "kernelspec": {
   "display_name": "Python 3",
   "language": "python",
   "name": "python3"
  },
  "language_info": {
   "codemirror_mode": {
    "name": "ipython",
    "version": 3
   },
   "file_extension": ".py",
   "mimetype": "text/x-python",
   "name": "python",
   "nbconvert_exporter": "python",
   "pygments_lexer": "ipython3",
   "version": "3.10.14"
  }
 },
 "nbformat": 4,
 "nbformat_minor": 2
}
