{
 "cells": [
  {
   "cell_type": "code",
   "execution_count": 9,
   "metadata": {},
   "outputs": [
    {
     "name": "stdout",
     "output_type": "stream",
     "text": [
      "0.010638682 19.731110328646828 0.7675044333403828\n"
     ]
    }
   ],
   "source": [
    "import numpy as np\n",
    "import os\n",
    "from sklearn.metrics import mean_squared_error\n",
    "from skimage.metrics import peak_signal_noise_ratio, structural_similarity\n",
    "\n",
    "preds = []\n",
    "trues = []\n",
    "for i in range(9):\n",
    "    pred = np.load(f'../results/flame_enc_in_23_target_xi_UNet_FLAME_ftM_sl5_ll48_pl20_dm512_nh8_el2_dl1_df2048_expand2_dc4_fc1_ebtimeF_dtTrue_Exp_0nf{i}_we3/pred.npy')\n",
    "    true = np.load(f'../results/flame_enc_in_23_target_xi_UNet_FLAME_ftM_sl5_ll48_pl20_dm512_nh8_el2_dl1_df2048_expand2_dc4_fc1_ebtimeF_dtTrue_Exp_0nf{i}_we3/true.npy')\n",
    "\n",
    "    preds.append(pred)\n",
    "    trues.append(true)\n",
    "\n",
    "preds = np.stack(preds, axis=0)\n",
    "trues = np.stack(trues, axis=0)\n",
    "\n",
    "mse = mean_squared_error(trues.reshape(-1), preds.reshape(-1))\n",
    "psnr = peak_signal_noise_ratio(trues, preds)\n",
    "ssim = structural_similarity(trues, preds, data_range=1)\n",
    "\n",
    "print(mse, psnr, ssim)"
   ]
  },
  {
   "cell_type": "code",
   "execution_count": null,
   "metadata": {},
   "outputs": [],
   "source": []
  }
 ],
 "metadata": {
  "kernelspec": {
   "display_name": "Python 3",
   "language": "python",
   "name": "python3"
  },
  "language_info": {
   "codemirror_mode": {
    "name": "ipython",
    "version": 3
   },
   "file_extension": ".py",
   "mimetype": "text/x-python",
   "name": "python",
   "nbconvert_exporter": "python",
   "pygments_lexer": "ipython3",
   "version": "3.10.14"
  }
 },
 "nbformat": 4,
 "nbformat_minor": 2
}
