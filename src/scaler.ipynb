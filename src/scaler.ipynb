{
 "cells": [
  {
   "cell_type": "code",
   "execution_count": 24,
   "metadata": {},
   "outputs": [
    {
     "data": {
      "text/plain": [
       "['../dataset/feature_scaler.joblib']"
      ]
     },
     "execution_count": 24,
     "metadata": {},
     "output_type": "execute_result"
    }
   ],
   "source": [
    "from sklearn.preprocessing import StandardScaler\n",
    "import os\n",
    "import glob\n",
    "from joblib import dump\n",
    "import numpy as np\n",
    "import pandas as pd\n",
    "\n",
    "scaler_dict = {}\n",
    "dynamic_features = ['theta', 'ustar']\n",
    "\n",
    "def cal_dynamic_feature_scaler(feature):\n",
    "    filenames = glob.glob(f'../dataset/dataset/**/{feature}*.dat')\n",
    "    data_list = [np.fromfile(x, dtype=\"<f4\") for x in filenames]\n",
    "    data = np.concatenate(data_list)[:, np.newaxis]\n",
    "    scaler = StandardScaler()\n",
    "    scaler.fit(data)\n",
    "    return scaler\n",
    "\n",
    "for f in dynamic_features:\n",
    "    scaler_dict[f] = cal_dynamic_feature_scaler(f)\n",
    "\n",
    "\n",
    "df_train = pd.read_csv('../dataset/dataset/train.csv')\n",
    "df_test = pd.read_csv('../dataset/dataset/test.csv')\n",
    "\n",
    "constant_features = ['u', 'alpha']\n",
    "df_constant = pd.concat([df_train[constant_features], df_test[constant_features]])\n",
    "\n",
    "scaler = StandardScaler()\n",
    "scaler.fit(df_constant)\n",
    "\n",
    "scaler_dict['constant'] = scaler\n",
    "\n",
    "dump(scaler_dict, '../dataset/feature_scaler.joblib')"
   ]
  },
  {
   "cell_type": "code",
   "execution_count": null,
   "metadata": {},
   "outputs": [],
   "source": []
  }
 ],
 "metadata": {
  "kernelspec": {
   "display_name": "Python 3",
   "language": "python",
   "name": "python3"
  },
  "language_info": {
   "codemirror_mode": {
    "name": "ipython",
    "version": 3
   },
   "file_extension": ".py",
   "mimetype": "text/x-python",
   "name": "python",
   "nbconvert_exporter": "python",
   "pygments_lexer": "ipython3",
   "version": "3.10.14"
  }
 },
 "nbformat": 4,
 "nbformat_minor": 2
}
