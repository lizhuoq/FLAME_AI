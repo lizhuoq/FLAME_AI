{
 "cells": [
  {
   "cell_type": "code",
   "execution_count": null,
   "metadata": {},
   "outputs": [],
   "source": [
    "from data_provider.data_loader import Dataset_flame\n",
    "\n",
    "class Args:\n",
    "    n_fold = 0\n",
    "    seq_len = 5\n",
    "    pred_len = 20\n",
    "\n",
    "dataset = Dataset_flame(Args())\n",
    "dataset.__getitem__(200)"
   ]
  },
  {
   "cell_type": "code",
   "execution_count": null,
   "metadata": {},
   "outputs": [],
   "source": [
    "from models.UNetViT import Model\n",
    "import torch\n",
    "\n",
    "class Configs:\n",
    "    seq_len = 5\n",
    "    pred_len = 20\n",
    "    enc_in = 5\n",
    "    c_out = 1\n",
    "    dropout = 0.1\n",
    "    scale = 1\n",
    "\n",
    "model = Model(Configs())\n",
    "x = torch.rand(2, 5, 5, 113, 32)\n",
    "pred = model(x)"
   ]
  },
  {
   "cell_type": "code",
   "execution_count": null,
   "metadata": {},
   "outputs": [],
   "source": [
    "pred.shape"
   ]
  },
  {
   "cell_type": "code",
   "execution_count": null,
   "metadata": {},
   "outputs": [],
   "source": [
    "from data_provider.data_loader import Dataset_flame\n",
    "import numpy as np\n",
    "\n",
    "x = np.random.rand(4, 5, 6)\n",
    "y = Dataset_flame.__cal_total_mean__(x)\n",
    "y.shape"
   ]
  },
  {
   "cell_type": "code",
   "execution_count": null,
   "metadata": {},
   "outputs": [],
   "source": [
    "import numpy as np\n",
    "import matplotlib.pyplot as plt\n",
    "\n",
    "pred = np.load('results/flame_weather_96_96_UNet_FLAME_ftM_sl5_ll48_pl20_dm256_nh8_el2_dl1_df75_expand2_dc4_fc3_ebtimeF_dtTrue_Exp_0nf0_we3/pred.npy')\n",
    "true = np.load('results/flame_weather_96_96_UNet_FLAME_ftM_sl5_ll48_pl20_dm256_nh8_el2_dl1_df75_expand2_dc4_fc3_ebtimeF_dtTrue_Exp_0nf0_we3/true.npy')\n",
    "\n",
    "fig, axes = plt.subplots(2, 20, figsize=(50, 10))\n",
    "index = 0\n",
    "\n",
    "for i, ax in enumerate(axes[0]):\n",
    "    im = ax.imshow(pred[index][i])\n",
    "    fig.colorbar(im, ax=ax)\n",
    "\n",
    "for i, ax in enumerate(axes[1]):\n",
    "    im = ax.imshow(true[index][i])\n",
    "    fig.colorbar(im, ax=ax)\n",
    "\n",
    "plt.tight_layout()\n",
    "plt.show()\n",
    "    "
   ]
  },
  {
   "cell_type": "code",
   "execution_count": null,
   "metadata": {},
   "outputs": [],
   "source": []
  }
 ],
 "metadata": {
  "kernelspec": {
   "display_name": "Python 3",
   "language": "python",
   "name": "python3"
  },
  "language_info": {
   "codemirror_mode": {
    "name": "ipython",
    "version": 3
   },
   "file_extension": ".py",
   "mimetype": "text/x-python",
   "name": "python",
   "nbconvert_exporter": "python",
   "pygments_lexer": "ipython3",
   "version": "3.10.14"
  }
 },
 "nbformat": 4,
 "nbformat_minor": 2
}
